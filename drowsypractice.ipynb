{
  "nbformat": 4,
  "nbformat_minor": 0,
  "metadata": {
    "colab": {
      "name": "drowsypractice.ipynb",
      "provenance": [],
      "collapsed_sections": [],
      "authorship_tag": "ABX9TyOj1VgN7nA/N8P9ZfMPeZVW",
      "include_colab_link": true
    },
    "kernelspec": {
      "name": "python3",
      "display_name": "Python 3"
    },
    "accelerator": "GPU"
  },
  "cells": [
    {
      "cell_type": "markdown",
      "metadata": {
        "id": "view-in-github",
        "colab_type": "text"
      },
      "source": [
        "<a href=\"https://colab.research.google.com/github/Ichchhya/drowsiness_detection_system/blob/master/drowsypractice.ipynb\" target=\"_parent\"><img src=\"https://colab.research.google.com/assets/colab-badge.svg\" alt=\"Open In Colab\"/></a>"
      ]
    },
    {
      "cell_type": "code",
      "metadata": {
        "id": "hSVx99aAdi2s",
        "colab_type": "code",
        "colab": {}
      },
      "source": [
        "import cv2,os\n",
        "data_path='/content/Datasets'\n",
        "categories=os.listdir(data_path)\n",
        "labels= [i for i in range(len(categories))]\n",
        "labels_dict=dict(zip(categories,labels))\n",
        "print(labels_dict)\n",
        "print(categories)\n",
        "print(labels)"
      ],
      "execution_count": null,
      "outputs": []
    },
    {
      "cell_type": "code",
      "metadata": {
        "id": "fPFApNc3fvH-",
        "colab_type": "code",
        "colab": {}
      },
      "source": [
        "img_size=100\n",
        "data=[]\n",
        "target=[]\n",
        "\n",
        "for category in categories:\n",
        "  folder_path=os.path.join(data_path,category)\n",
        "  img_names=os.listdir(folder_path)\n",
        "\n",
        "  for img_name in img_names:\n",
        "    img_path=os.path.join(folder_path,img_name)\n",
        "    img=cv2.imread(img_path)\n",
        "\n",
        "    try:\n",
        "      gray=cv2.cvtColor(img,cv2.COLOR_BGR2GRAY)\n",
        "      resized=cv2.resize(gray,(img_size,img_size))\n",
        "      data.append(resized)\n",
        "      target.append(labels_dict[category])\n",
        "    except Exception as e:\n",
        "      print(\"Exception: \",e)"
      ],
      "execution_count": 10,
      "outputs": []
    },
    {
      "cell_type": "code",
      "metadata": {
        "id": "DuicZ54TkPI-",
        "colab_type": "code",
        "colab": {}
      },
      "source": [
        "import numpy as np\n",
        "data=np.array(data)/255.0\n",
        "data=np.reshape(data,(data.shape[0],img_size,img_size,1))\n",
        "target=np.array(target)\n",
        "\n",
        "from keras.utils import np_utils\n",
        "new_target=np_utils.to_categorical(target)\n",
        "np.save('data',data)\n",
        "np.save('target',new_target)"
      ],
      "execution_count": 12,
      "outputs": []
    },
    {
      "cell_type": "code",
      "metadata": {
        "id": "ub1S1MoNmOpI",
        "colab_type": "code",
        "colab": {}
      },
      "source": [
        "import numpy as np\n",
        "#loading the dataset that we created in previous code\n",
        "data=np.load('data.npy')\n",
        "target=np.load('target.npy')"
      ],
      "execution_count": 13,
      "outputs": []
    },
    {
      "cell_type": "code",
      "metadata": {
        "id": "LuBayDovmm9s",
        "colab_type": "code",
        "colab": {}
      },
      "source": [
        "from keras.models import Sequential\n",
        "from keras.layers import Dropout,Dense,Flatten,Activation\n",
        "from keras.layers import Conv2D,MaxPooling2D\n",
        "from keras.callbacks import ModelCheckpoint\n",
        "\n",
        "model=Sequential()\n",
        "\n",
        "#first layer\n",
        "model.add(Conv2D(200,(3,3),input_shape=data.shape[1:]))\n",
        "model.add(Activation('relu'))\n",
        "model.add(MaxPooling2D(pool_size=(2,2)))\n",
        "\n",
        "#second layer\n",
        "model.add(Conv2D(100,(3,3)))\n",
        "model.add(Activation('relu'))\n",
        "model.add(MaxPooling2D(pool_size=(2,2)))\n",
        "\n",
        "#third layer\n",
        "model.add(Flatten())\n",
        "model.add(Dropout(0.5))\n",
        "\n",
        "#fourth layer\n",
        "model.add(Dense(50,activation='relu'))\n",
        "\n",
        "#output layer\n",
        "model.add(Dense(2,activation='softmax'))\n",
        "\n",
        "model.compile(loss='categorical_crossentropy',optimizer='adam',metrics=['accuracy'])\n"
      ],
      "execution_count": 17,
      "outputs": []
    },
    {
      "cell_type": "code",
      "metadata": {
        "id": "yfZczLTDrdzM",
        "colab_type": "code",
        "colab": {}
      },
      "source": [
        "from sklearn.model_selection import train_test_split\n",
        "train_data,test_data,train_target,test_target= train_test_split(data,target,test_size=0.1)"
      ],
      "execution_count": 18,
      "outputs": []
    },
    {
      "cell_type": "code",
      "metadata": {
        "id": "1kyC750FsPhP",
        "colab_type": "code",
        "colab": {}
      },
      "source": [
        "checkpoint=ModelCheckpoint('model-{epoch:03d}.model',monitor='val_loss',verbose=0,save_best_only=True,mode='auto')\n",
        "history=model.fit(train_data,train_target,epochs=20,callbacks=[checkpoint],validation_split=0.2)"
      ],
      "execution_count": null,
      "outputs": []
    },
    {
      "cell_type": "code",
      "metadata": {
        "id": "t3mQ7_yJtq7C",
        "colab_type": "code",
        "colab": {
          "base_uri": "https://localhost:8080/",
          "height": 279
        },
        "outputId": "e10cc69e-8a82-4d07-d4c8-970fa5e03644"
      },
      "source": [
        "import matplotlib.pyplot as plt\n",
        "plt.plot(history.history['loss'],'r',label='training_loss')\n",
        "plt.plot(history.history['val_loss'],'b',label='validation_loss')\n",
        "plt.xlabel('#epochs')\n",
        "plt.ylabel('loss')\n",
        "plt.legend()\n",
        "plt.show()"
      ],
      "execution_count": 24,
      "outputs": [
        {
          "output_type": "display_data",
          "data": {
            "image/png": "[encoded data removed]",
            "text/plain": [
              "<Figure size 432x288 with 1 Axes>"
            ]
          },
          "metadata": {
            "tags": [],
            "needs_background": "light"
          }
        }
      ]
    },
    {
      "cell_type": "code",
      "metadata": {
        "id": "eVyx_LoivSxa",
        "colab_type": "code",
        "colab": {
          "base_uri": "https://localhost:8080/",
          "height": 279
        },
        "outputId": "bdd5a000-46cf-4ca4-9b42-507a1b67839c"
      },
      "source": [
        "import matplotlib.pyplot as plt\n",
        "plt.plot(history.history['accuracy'],'r',label='training_accuracy')\n",
        "plt.plot(history.history['val_accuracy'],'b',label='validation_accuracy')\n",
        "plt.xlabel('#epochs')\n",
        "plt.ylabel('loss')\n",
        "plt.legend()\n",
        "plt.show()"
      ],
      "execution_count": 26,
      "outputs": [
        {
          "output_type": "display_data",
          "data": {
            "image/png": "[encoded data removed]",
            "text/plain": [
              "<Figure size 432x288 with 1 Axes>"
            ]
          },
          "metadata": {
            "tags": [],
            "needs_background": "light"
          }
        }
      ]
    },
    {
      "cell_type": "code",
      "metadata": {
        "id": "vvHGqedpv4GH",
        "colab_type": "code",
        "colab": {
          "base_uri": "https://localhost:8080/",
          "height": 51
        },
        "outputId": "121da84d-4fd5-4e53-a720-627cb1707e49"
      },
      "source": [
        "print(model.evaluate(test_data,test_target))"
      ],
      "execution_count": 27,
      "outputs": [
        {
          "output_type": "stream",
          "text": [
            "4/4 [==============================] - 0s 22ms/step - loss: 0.1056 - accuracy: 0.9597\n",
            "[0.10555529594421387, 0.9596773982048035]\n"
          ],
          "name": "stdout"
        }
      ]
    },
    {
      "cell_type": "code",
      "metadata": {
        "id": "C93h_sVsyG5f",
        "colab_type": "code",
        "colab": {}
      },
      "source": [
        "from keras.models import load_model\n",
        "import cv2\n",
        "import numpy as np\n",
        "\n",
        "model=load_model('model-015.model')\n",
        "left_eye_classifier=cv2.CascadeClassifier('haarcascade_lefteye_2splits.xml')\n",
        "right_eye_classifier=cv2.CascadeClassifier('haarcascade_righteye_2splits.xml')\n",
        "source=cv2.VideoCapture(0)\n",
        "label_dict={0:'open',1:'closed'}\n",
        "color_dict={0:(0,255,0),1:(0,0,255)}\n",
        "\n",
        "# eyes_left = eye_cascade_left.detectMultiScale(left_eye_classifier)\n",
        "# eyes_right = eye_cascade_right.detectMultiScale(right_eye_classifier)\n",
        "# for (ex1,ey1,ew1,eh1) in eyes_left:\n",
        "#     break\n",
        "# for (ex,ey,ew,eh) in eyes_right:\n",
        "#     break\n"
      ],
      "execution_count": null,
      "outputs": []
    }
  ]
}